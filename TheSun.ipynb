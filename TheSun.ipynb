{
 "cells": [
  {
   "cell_type": "markdown",
   "metadata": {
    "collapsed": true,
    "editable": true,
    "jupyter": {
     "outputs_hidden": true
    },
    "slideshow": {
     "slide_type": ""
    },
    "tags": []
   },
   "source": [
    "## Praktische Sterrenkunde - Observation Assignment 2: The Sun\n",
    "\n",
    "**Year**: 2023-24 <br>\n",
    "**Lecturer**: Ana Monreal Ibero <br>\n",
    "**Author**: Olivier Burggraaff"
   ]
  },
  {
   "cell_type": "markdown",
   "metadata": {
    "editable": true,
    "nbpresent": {
     "id": "98dd4008-2d42-48bd-8bcb-7c6c645478ef"
    },
    "slideshow": {
     "slide_type": ""
    },
    "tags": []
   },
   "source": [
    "## Introduction\n",
    "\n",
    "In this assignment, we analyse the data taken in recent weeks with the heliostat and spectrograph in the Old Observatory. For this we use a Jupyter notebook.\n",
    "\n",
    "Jupyter is an implementation of Python, where you can place text and code in one document. In this way, you can easily organise your analysis and results. Python code is split in Jupyter into so-called *cells*. Each cell contains its own piece of code, which can be run on its own. For example, you can use one cell to read your data, and another one to create a plot. If you want to create a new plot, you only run that cell - you don't have to run everything again, as is the case with a normal Pythonscript. The cells can communicate with each other, so you can use the results of cell 1 in cell 2.\n",
    "\n",
    "To edit a cell, all you have to do is click on it. To run the code, you can press the run button at the top of the window (one triangle pointing to the right) or press ctrl+enter.\n",
    "\n",
    "Figures and print statements appear under the cell in which they are made.\n",
    "\n",
    "There are also so-called *markdown* cells, in which you can put text. The formatting for this is very simple: headings with \\# characters, slanted text between \\* characters (e.g. \\*slanted\\* becomes *slanted*), thick text between double \\*\\* (e.g. \\*\\*bold\\*\\* becomes **bold**). You can even write pieces of $\\LaTeX$. Markdown cells can be edited by *double* clicking on them. Markdown cells are run in the same way as Python cells. Try it with this text, for example!\n",
    "\n",
    "Finally, you can add cells to the *Insert* tab or with the + button on the taskbar; you can change the type of cells on the *Cell* tab or in the dropdown menu on the taskbar."
   ]
  },
  {
   "cell_type": "markdown",
   "metadata": {
    "nbpresent": {
     "id": "397a3816-06b8-43f4-959c-929ec8d250db"
    }
   },
   "source": [
    "## Data\n",
    "\n",
    "As with the M37 observation assignment, we use data in FITS files. The files containing the sun's data have been distributed by the assistants. It is handy to keep the files in the same folder as your notebook.\n",
    "\n",
    "For each observation there is one FITS file with the spectrum, and one with a dark image. In the next cell there is a piece of sample code to read a FITS file. Replace `test.fit` with the name of one of your FITS files. Then run the cell (run-button or ctrl+enter): if you see an array as output underneath the cell, it works!"
   ]
  },
  {
   "cell_type": "code",
   "execution_count": 2,
   "metadata": {
    "nbpresent": {
     "id": "ed3ef6c4-f92d-4a23-8ebf-f10e3679a8ed"
    }
   },
   "outputs": [
    {
     "name": "stdout",
     "output_type": "stream",
     "text": [
      "[[4367 4385 4386 ... 4370 4377 4379]\n",
      " [4382 4371 4372 ... 4367 4369 4383]\n",
      " [4356 4366 4353 ... 4392 4389 4394]\n",
      " ...\n",
      " [4339 4366 4353 ... 4360 4367 4376]\n",
      " [4352 4341 4366 ... 4367 4374 4361]\n",
      " [4379 4338 4350 ... 4371 4342 4373]]\n"
     ]
    }
   ],
   "source": [
    "from __future__ import division, print_function # this ensures that we can use both python 2 and 3\n",
    "from astropy.io import fits  # module to read fit files in python\n",
    "from matplotlib import pyplot as plt\n",
    "%matplotlib inline\n",
    "# with \"inline\" suddenly appear nicely in the notebook\n",
    "import numpy as np\n",
    "\n",
    "mijnbestand = '20180406_121132.fit' # your file\n",
    "data = fits.getdata(mijnbestand)\n",
    "data = data.astype(\"int16\")  # this ensures that the data are in neat numpy format\n",
    "\n",
    "print(data)"
   ]
  },
  {
   "cell_type": "markdown",
   "metadata": {
    "nbpresent": {
     "id": "49a95e64-27a6-4990-94fc-2c70e9920b3a"
    }
   },
   "source": [
    "As you can see, data is an array. In this array, there are the values of all the pixels of the CCD in the camera of the spectrograph - this is the image we took! With the function plt.imshow from matplotlib we can see how the image looks like:"
   ]
  },
  {
   "cell_type": "code",
   "execution_count": null,
   "metadata": {
    "nbpresent": {
     "id": "08e8b6ec-05da-4d26-8b72-7a2442af18bc"
    }
   },
   "outputs": [],
   "source": [
    "# Your code here!"
   ]
  },
  {
   "cell_type": "markdown",
   "metadata": {},
   "source": [
    "For each observation we also made a dark exposure. The best thing we can do now is subtract it from the data before we do any further processing.\n",
    "\n",
    "The darks are also given, and each one has \"DarkCurrent\" in its filename. In the cells below, read in the dark belonging to the spectrum you read in before, and make a plot of the dark, as before."
   ]
  },
  {
   "cell_type": "code",
   "execution_count": 6,
   "metadata": {},
   "outputs": [],
   "source": [
    "# Your code here!\n",
    "darkbestand = '20180406_121132_DarkCurrent.fit'\n",
    "darkdata = fits.getdata(darkbestand).astype(\"int16\")"
   ]
  },
  {
   "cell_type": "code",
   "execution_count": 7,
   "metadata": {},
   "outputs": [],
   "source": [
    "# Your code here!\n"
   ]
  },
  {
   "cell_type": "markdown",
   "metadata": {},
   "source": [
    "Depending on the colour scale and contrast, it may be difficult to see much from the dark. You can possibly use the DS9 program (installed on all strw-pc's) to easily study the dark in more detail.\n",
    "\n",
    "Two things are important in the dark calibration: the exposure times of the dark and light, and the bias. In the practical, we have chosen to make the dark and light with the same exposure time, and not to create a bias. What were these two choices based on?\n",
    "\n",
    "The dark is read in the same format as the spectrum, so you can easily subtract them. Do this in the cell below.\n",
    "\n",
    "Make sure your final array is called `data`."
   ]
  },
  {
   "cell_type": "code",
   "execution_count": 8,
   "metadata": {},
   "outputs": [],
   "source": [
    "# Your code here!\n",
    "\n"
   ]
  },
  {
   "cell_type": "markdown",
   "metadata": {},
   "source": [
    "You can see a plane with an approximately vertical line. That line is the spectrum of the sun. It is more convenient to have the spectrum horizontally, and we can achieve this by transposing the array (just like a matrix). This can be done very easily, for example, like this:"
   ]
  },
  {
   "cell_type": "code",
   "execution_count": 7,
   "metadata": {},
   "outputs": [],
   "source": [
    "data_flipped = data.T  # .T for transpose\n"
   ]
  },
  {
   "cell_type": "markdown",
   "metadata": {},
   "source": [
    "You may see that the spectrum is not perfectly horizontal: this is due to the way the light in the spectrograph falls on the CCD. This is even clearer when we zoom in:"
   ]
  },
  {
   "cell_type": "code",
   "execution_count": 9,
   "metadata": {},
   "outputs": [
    {
     "data": {
      "text/plain": [
       "<matplotlib.image.AxesImage at 0x7fa6fc4e3c70>"
      ]
     },
     "execution_count": 9,
     "metadata": {},
     "output_type": "execute_result"
    },
    {
     "data": {
      "image/png": "[encoded data removed]",
      "text/plain": [
       "<Figure size 1080x216 with 1 Axes>"
      ]
     },
     "metadata": {
      "needs_background": "light"
     },
     "output_type": "display_data"
    }
   ],
   "source": [
    "data_zoom = data_flipped[300:400] # rows 300-400 only\n",
    "plt.figure(figsize=(15,3)) # big figure so that we can see it more clearly\n",
    "plt.imshow(data_zoom, extent=(0, data_zoom.shape[1], 400, 300))  # \"extent\" ensures that axes remain properly labelled"
   ]
  },
  {
   "cell_type": "markdown",
   "metadata": {},
   "source": [
    "If all goes well, you will see dark spots in the spectrum. These are the absorption lines we want to look at (more on this later). Because the spectrum is curved, the absorption lines are tilted: we want them to be straight so that we can work with them better later on. Fortunately, you can easily rotate an image in Python, for example with the *rotate* function from the *scipy.ndimage.interpolation* module.\n",
    "\n",
    "The next cell contains a piece of code with which you can rotate the spectrum. Decide for yourself, on the basis of an image, which angle is best. For example, you can plot a horizontal line (*plt.axhline*) or a grid (*plt.grid*)."
   ]
  },
  {
   "cell_type": "code",
   "execution_count": 19,
   "metadata": {},
   "outputs": [
    {
     "data": {
      "image/png": "[encoded data removed]",
      "text/plain": [
       "<Figure size 432x288 with 1 Axes>"
      ]
     },
     "metadata": {
      "needs_background": "light"
     },
     "output_type": "display_data"
    }
   ],
   "source": [
    "from scipy.ndimage.interpolation import rotate\n",
    "\n",
    "angle =  # What angle do you use? \n",
    "\n",
    "data_rot = rotate(data_flipped, angle)\n",
    "\n",
    "plt.imshow(data_rot, origin='lower left')\n",
    "plt.show()"
   ]
  },
  {
   "cell_type": "markdown",
   "metadata": {},
   "source": [
    "Now the spectrum, if it is right, is horizontal. There is one more operation we have to do on the image before we can continue. As you may have noticed, there are 'edges' glued to the image during rotation. These edges do not contain any data, but are an artifact of the way Python performs the rotation.\n",
    "\n",
    "In the cell below you can determine which borders you should use to keep only the real data (the spectrum, but also the rest of the image) and cut out the rotation borders."
   ]
  },
  {
   "cell_type": "code",
   "execution_count": 20,
   "metadata": {},
   "outputs": [
    {
     "data": {
      "image/png": "[encoded data removed]",
      "text/plain": [
       "<Figure size 864x864 with 1 Axes>"
      ]
     },
     "metadata": {
      "needs_background": "light"
     },
     "output_type": "display_data"
    }
   ],
   "source": [
    "data_final = data_rot[:,:] # select a slice without borders\n",
    "plt.figure(figsize=(12, 12))  # large figure so that you can test more easily\n",
    "plt.imshow(data_final)\n",
    "plt.show()"
   ]
  },
  {
   "cell_type": "markdown",
   "metadata": {},
   "source": [
    "We have a lot of spectra, each with a corresponding dark-recording, so it is not convenient to read the array by hand every time, pull the dark off, rotate the image and so on. It's more convenient to write a function that reads in the data for a given filename and does all the steps from before (transpose, rotate, etc.) for you, giving only the result.\n",
    "\n",
    "You can write your data-reading function in the next cell:"
   ]
  },
  {
   "cell_type": "code",
   "execution_count": 21,
   "metadata": {},
   "outputs": [],
   "source": [
    "#  in principle you just want to put all the steps from above, except the plots, into 1 function\n",
    "\n",
    "#  Pay attention to how variables can or cannot be reused:\n",
    "#  local vs global variables is often tricky and can go badly wrong."
   ]
  },
  {
   "cell_type": "markdown",
   "metadata": {},
   "source": [
    "In the cell below you can test your code:"
   ]
  },
  {
   "cell_type": "code",
   "execution_count": 22,
   "metadata": {},
   "outputs": [],
   "source": [
    "# Your code here!\n",
    "\n",
    "# read a file\n",
    "\n",
    "\n",
    "# make a plot and see if everything works properly"
   ]
  },
  {
   "cell_type": "markdown",
   "metadata": {},
   "source": [
    "You now have a function that allows you to easily read a fit file and do the first part of the calibration. \n",
    "\n",
    "Now use your function to read in all the spectra."
   ]
  },
  {
   "cell_type": "code",
   "execution_count": null,
   "metadata": {},
   "outputs": [],
   "source": [
    "# Your code here!\n"
   ]
  },
  {
   "cell_type": "markdown",
   "metadata": {},
   "source": [
    "# Spectrum"
   ]
  },
  {
   "cell_type": "markdown",
   "metadata": {
    "nbpresent": {
     "id": "9b328558-398b-4779-b0ab-beb83873a168"
    }
   },
   "source": [
    "The spectrum looks - if it is good - like a line with a number of notches . These notches are the absorption lines, some of which are caused by atoms and molecules in the Sun, others by substances in the Earth's atmosphere.\n",
    "\n",
    "With just a plot as the one above, we cannot, of course, see clearly where the absorption lines are in the spectrum, and whether they have been shifted. It is more convenient to make a plot of the intensity as a function of wavelength. However, we do not know yet which pixel belongs to which wavelength, so as a first approximation we can make a plot of the intensity as a function of pixel position.\n",
    "\n",
    "The simplest way to do this is to add up the data vertically (i.e. for each column all intensities add up to one value per column). You can, for example, use the numpy function *sum* to do this.\n",
    "\n",
    "In the cell below you can summarize the data and make a plot of intensity per column.\n",
    "\n",
    "**Tip**: It is useful to write and test your code with one spectrum first, and only apply it to all spectra when it works."
   ]
  },
  {
   "cell_type": "code",
   "execution_count": null,
   "metadata": {
    "nbpresent": {
     "id": "0dbc358b-237a-462e-858a-d92626a691c8"
    }
   },
   "outputs": [],
   "source": [
    "# Your code here!\n",
    "\n",
    "# sum up the data"
   ]
  },
  {
   "cell_type": "code",
   "execution_count": 23,
   "metadata": {},
   "outputs": [],
   "source": [
    "#  make a plot"
   ]
  },
  {
   "cell_type": "markdown",
   "metadata": {
    "nbpresent": {
     "id": "189845b6-5a21-4468-af41-6367873fa374"
    }
   },
   "source": [
    "If all goes well, you see a line with a number of clear peaks and troughs. The valleys are the aforementioned absorption lines. However, our spectrum is not perfect yet: there is a trend, and noise.\n",
    "\n",
    "### Noise\n",
    "\n",
    "Part of the noise comes from the way you add up: if you use the whole column, you also add up all the noise from pixels where the spectrum clearly doesn't stand out. In addition, in some columns you will experience a dead or hot pixel, which may not be properly calibrated with the dark. \n",
    "\n",
    "So we can remove some of the noise in the spectrum by no longer adding all the pixels, but only those with the spectrum. From your previous plots, estimate which rows contain the spectrum, and plot these rows: both in the data and in a line graph (as above)."
   ]
  },
  {
   "cell_type": "code",
   "execution_count": null,
   "metadata": {
    "nbpresent": {
     "id": "a5dbaba4-cff2-43d5-a20b-8f47d09ea888"
    }
   },
   "outputs": [],
   "source": [
    "# Your code here!"
   ]
  },
  {
   "cell_type": "code",
   "execution_count": 24,
   "metadata": {},
   "outputs": [],
   "source": [
    "# Plot with only the right rows"
   ]
  },
  {
   "cell_type": "markdown",
   "metadata": {
    "nbpresent": {
     "id": "4b4213ed-42a3-4a54-a916-392824b4a039"
    }
   },
   "source": [
    "Do you see a difference between the old and the new spectrum?\n",
    "\n",
    "In the cell below, make a plot of the difference between the old and the new spectrum:"
   ]
  },
  {
   "cell_type": "code",
   "execution_count": 25,
   "metadata": {},
   "outputs": [],
   "source": [
    "# Your code here!"
   ]
  },
  {
   "cell_type": "markdown",
   "metadata": {},
   "source": [
    "How important do you think it is to use only the rows with the spectrum, if you look at the graph above?\n",
    "\n",
    "### Trend\n",
    "\n",
    "In the spectrum we see not only a number of peaks and troughs of absorption lines, but also an overall trend. Such a trend can appear in your spectrum for all sorts of reasons: for example, because your CCD is not exposed evenly, or because your pixels are less sensitive to some wavelengths, or even because there really is a trend in the spectrum.\n",
    "\n",
    "For this assignment, we are interested in the valleys of the absorption lines, and you can work with them more easily without that trend. So we want to eliminate the trend.\n",
    "\n",
    "The easiest way to do this is to fit a curve to the spectrum, and divide the spectrum accordingly. There are all kinds of ways to fit that curve, but the simplest one is just a polynomial. However, it is important to determine the degree of the polynomial, *N*, correctly. If you choose a too low value for *N*, you will not fit the whole trend and you will not remove it properly; if the grade is too high, you will also fit and remove the real peaks and troughs in the spectrum. Once we have a good fit, we divide the spectrum by it. This is also called *normalising*.\n",
    "\n",
    "There are all kinds of algorithms to determine the optimum value of *N*, but in this case it is enough to make an estimate by eye. In the cell below you can try different values of *N*. There are a few pieces of code to help you in the process.\n",
    "\n",
    "We use the function *np.polyfit* to make the fit, and *np.polyval* to calculate the fit values."
   ]
  },
  {
   "cell_type": "code",
   "execution_count": null,
   "metadata": {},
   "outputs": [],
   "source": [
    "# Your code here!\n",
    "spectrum = # your spectrum\n",
    "N =  # What is the best value?\n",
    "\n",
    "x = np.arange(len(spectrum))  # x-as: pixels\n",
    "\n",
    "fit = np.polyfit(x, spectrum, deg=N) #  fit a polynomial\n",
    "fitted_values = np.polyval(fit, x) #  Fill in the x-values in the polynomial to calculate the fit curve.\n",
    "\n",
    "#  make a plot of the spectrum and the true values to compare\n",
    "\n",
    "#  divide the spectrum by the fitted curve: do you still see a trend?\n"
   ]
  },
  {
   "cell_type": "markdown",
   "metadata": {},
   "source": [
    "WelkeWhat is the best value of *N*? On what do you base that choice?\n",
    "\n",
    "We have now read the spectrum, rotated it, cleaned it of noise and removed a trend. We are now ready for the next step: coupling wavelengths to the x-axis."
   ]
  },
  {
   "cell_type": "markdown",
   "metadata": {},
   "source": [
    "## Wavelength calibration\n",
    "\n",
    "We now have the spectrum as a function of pixel position. However, we are interested in wavelengths, because we want to determine the wavelength difference between a number of absorption lines. Therefore, we need to calibrate the spectrum to wavelength: which wavelength belongs to which pixel position?\n",
    "\n",
    "To do this, we use the wavelengths of some known absorption lines: we know what wavelengths they have, so if we find them in our spectrum, we can make a connection between pixel position and wavelength. At http://bass2000.obspm.fr/solar_spect.php you can interactively study the spectrum of the Sun. This spectrum can also be downloaded as a text file, which you can read into Python. This file can be found on Brightspace under the name \"solar_spectrum.dat\". In this file, a large number of wavelengths (unit: Angstrom, Å) represent the intensity.\n",
    "\n",
    "For example, on the BASS 2000 website, look at the spectrum centred at 6300 Å with a range of 25 Å. This is about the same part of the spectrum as we measured. Around 6302 Å you can see the absorption lines we are interested in: the two broad iron lines and the two narrow oxygen lines.\n",
    "\n",
    "<!--\n",
    "Sources:\n",
    "Iron: NIST (linked to BASS2000)\n",
    "Oxygen: http://adsabs.harvard.edu/abs/1966sst..book.....M (by the way, do not see him standing)\n",
    "-->\n",
    "\n",
    "Read in the cells below the BASS2000-data and make a plot of the above lines (around 6302 Å). For example, you can use the function *np.where* to find the correct array elements. Normalise the intensity so that the maximum value is 1, so that we can later compare it with our own spectrum. Make sure the axes of your plot are clearly labelled."
   ]
  },
  {
   "cell_type": "code",
   "execution_count": null,
   "metadata": {},
   "outputs": [],
   "source": [
    "# Your code here!"
   ]
  },
  {
   "cell_type": "code",
   "execution_count": null,
   "metadata": {},
   "outputs": [],
   "source": [
    "# Your code here!"
   ]
  },
  {
   "cell_type": "markdown",
   "metadata": {},
   "source": [
    "Do you recognise these lines in your own spectrum?\n",
    "\n",
    "The oxygen lines are caused by oxygen molecules in the Earth's atmosphere: therefore, these lines always have the same wavelengths. That is why we can use these lines to calibrate our wavelengths. The wavelengths of the oxygen lines are 6301,988 Å and 6302,756 Å.\n",
    "\n",
    "In order to make the connection between pixel position and wavelength, we need to know exactly on which pixels the two oxygen lines lie. For this we use a so-called Gaussian fit."
   ]
  },
  {
   "cell_type": "markdown",
   "metadata": {},
   "source": [
    "### Gaussian fit\n",
    "\n",
    "To determine the pixel position of the oxygen lines, we could simply make a plot of the spectrum, and then try to estimate by eye where the lines fall. However, this is not very accurate. Therefore, what we do is fitting a curve to the line.\n",
    "\n",
    "Spectral lines can have different shapes. One of the most common is a Gaussian curve. You have come across this curve before; it is also the shape of the normal distribution. Spectral lines can get this shape through an effect called \"doppler broadening\": the atoms or molecules do not all have the same velocity, causing the spectrum of some to shift slightly to the red or to the blue. The exact shape of a spectral line gives a lot of information about the conditions at the place where the light comes from.\n",
    "\n",
    "We are only interested here in finding the exact centres of our spectral lines. For this purpose we fit a Gaussian curve to the lines. This is done according to the same principle as the linear fits you made in other assignments: we search for the model that best fits our data.\n",
    "\n",
    "There are all kinds of methods to quickly find a good fit. One of these is the *least squares* method, in which you calculate the model value for each data point, then calculate the difference between measurement and model, which squares, and then take the sum. When that sum is the lowest, your model is the best. In formula form:\n",
    "\n",
    "\\begin{equation}\n",
    "S = \\sum_{i=1}^n \\left(y_i - f(x_i, p) \\right)^2\n",
    "\\end{equation}\n",
    "\n",
    "In that case $S$ is the sum you want to minimize, $x_i$ and $y_i$ are the data (in our case $x$ is pixel position and $y$ intensity) and $f(x_i, p)$ is the curve you fit, with function $f$ and parameters $p$.\n",
    "\n",
    "As you learned in the error calculation assignment, the Gaussian function (or normal distribution) has the following form:\n",
    "\n",
    "\\begin{equation}\n",
    "f(x) = a \\, \\exp\\left(\\frac{- (x - \\mu)^2}{2 \\sigma^2}\\right)\n",
    "\\end{equation}\n",
    "\n",
    "In which $a$ is the amplitude, $\\exp$ is the exponential function ($\\exp(x) = e\\,^x$), $\\mu$ is the average, and $\\sigma$ is the standard deviation. $a$, $\\mu$ and $\\sigma$ are the parameters of this function.\n",
    "\n",
    "The application of the *least squares*-fit can again be done in many ways, for example by trying out a large number of parameters, and seeing which ones give the best fit. This is easy to program, but can take a lot of time to execute. One of Python's strengths is that there is an enormous library of modules in which, for example, the fitting of curves has been implemented.\n",
    "\n",
    "Here we use the *curve_fit* function from the *scipy.optimize* module. This function uses the Levenberg-Marquardt algorithm to fit a given function to data. You can find more information about its exact operation in *scipy*'s documentation: <br>.\n",
    "https://docs.scipy.org/doc/scipy-0.19.0/reference/generated/scipy.optimize.curve_fit.html\n",
    "\n",
    "The most important thing to know here is that *curve_fit* has the following parameters:\n",
    "* `f`: the function you want to fit, in our case a Gaussian curve\n",
    "* `xdata`: the x-axis of your data, in our case pixel position\n",
    "* `ydata`: the y-axis of your data, in our case intensity\n",
    "* `p0`: a first estimation of the parameters of `f`.\n",
    "\n",
    "The output of *curve_fit* consists of two arrays: `popt`, the best parameters, and `pcov`, the uncertainties in those parameters.\n",
    "\n",
    "In the cells below we will perform the fit. First we import *curve_fit* and create a function for the Gaussian curve:"
   ]
  },
  {
   "cell_type": "code",
   "execution_count": null,
   "metadata": {},
   "outputs": [],
   "source": [
    "# definitions\n",
    "from scipy.optimize import curve_fit\n",
    "\n",
    "def gauss(x, a, mu, sigma):\n",
    "    # negative because the curve is subtracted from the spectrum, which is in absorption\n",
    "    return - a * np.exp(-(x - mu)**2 / (2 * sigma**2))"
   ]
  },
  {
   "cell_type": "markdown",
   "metadata": {},
   "source": [
    "For the fit we only want to use the data points that are in the line. Therefore, for both oxygen lines, we first need to find which indices in the array belong to the line. In the cell below you can make this selection, for example by means of a number of plots.\n",
    "\n",
    "In order to get a good fit, we also need to normalise the lines. This is because the Gaussian function does not include a vertical offset. Simply subtract the maximum of both lines from the lines themselves. You can use the *np.max* function, for example.\n",
    "\n",
    "As a result, you want to have arrays for each of the two lines with the pixel positions and wavelengths associated with that line."
   ]
  },
  {
   "cell_type": "code",
   "execution_count": null,
   "metadata": {},
   "outputs": [],
   "source": [
    "# Your code here!\n",
    "# Make a plot of your selections to check that it is correct"
   ]
  },
  {
   "cell_type": "markdown",
   "metadata": {},
   "source": [
    "Then use *curve_fit* to fit the *gauss* function to both lines. Think carefully about the values you give in the parameter `p0`!"
   ]
  },
  {
   "cell_type": "code",
   "execution_count": null,
   "metadata": {},
   "outputs": [],
   "source": [
    "# Your code here!"
   ]
  },
  {
   "cell_type": "markdown",
   "metadata": {},
   "source": [
    "You should now have an array `popt` for both lines with the optimal parameters for that line. Which element of `popt` corresponds to which parameter? Which one are we interested in here?\n",
    "\n",
    "To check whether the fit is correct, it is useful to re-plot the data with the fit. If you plot the data using the *plt.scatter* function instead of *plt.plot*, you will see the separate data points without connecting lines. Plot the model with lines and you can easily assess whether the fit is correct. To plot the model, simply apply the *gauss* function to the range of the x-axis where your line is, with the optimum parameters.\n",
    "\n",
    "When plotting, remember that you clearly label all axes, data, etc..."
   ]
  },
  {
   "cell_type": "code",
   "execution_count": null,
   "metadata": {},
   "outputs": [],
   "source": [
    "# Your code here!\n",
    "\n",
    "# Calculate the model"
   ]
  },
  {
   "cell_type": "code",
   "execution_count": null,
   "metadata": {},
   "outputs": [],
   "source": [
    "# Your code here!\n",
    "\n",
    "# Plot the data and model"
   ]
  },
  {
   "cell_type": "markdown",
   "metadata": {},
   "source": [
    "Are you satisfied with the fits? Why yes/no?\n",
    "\n",
    "Now that we know the exact pixel positions of the lines, we can finally make the connection between pixel and wavelength. We assume that this is a linear relationship. The wavelengths of the oxygen lines are 6301.988 Å and 6302.756 Å respectively.\n",
    "\n",
    "Calculate the relationship between pixel position and wavelength. Use that to plot the data with wavelength on the x-axis and intensity on the y-axis, and compare it to the spectrum of BASS-2000, for example by plotting them in one figure. Choose the range on the x-axis in such a way that you have a clear view of both the oxygen and iron lines. Don't forget to label everything clearly!"
   ]
  },
  {
   "cell_type": "code",
   "execution_count": null,
   "metadata": {},
   "outputs": [],
   "source": [
    "# Your code here!\n",
    "\n",
    "# Convert pixel positions to wavelengths\n"
   ]
  },
  {
   "cell_type": "code",
   "execution_count": null,
   "metadata": {},
   "outputs": [],
   "source": [
    "# Your code here!\n",
    "\n",
    "# Plot the measured spectrum and that of BASS-2000 on top of each other, with wavelength on the x-axis"
   ]
  },
  {
   "cell_type": "markdown",
   "metadata": {},
   "source": [
    "Are the oxygen lines of your spectrum in the same place as those of BASS-2000? And the iron lines? Why yes/no?"
   ]
  },
  {
   "cell_type": "markdown",
   "metadata": {
    "nbpresent": {
     "id": "9b045a88-53ae-45b7-a25d-10afe78cde11"
    }
   },
   "source": [
    "### Iron lines\n",
    "\n",
    "We now know how to convert pixel positions to wavelengths. This brings us one step closer to our final goal: determining the rotation velocity of the sun.\n",
    "\n",
    "As you may have seen in the previous section, the iron lines of the spectrum are shifted in relation to the reference spectrum of BASS-2000. That is the Doppler shift due to the rotation of the sun. \n",
    "\n",
    "Now, in the same way as before, we want to determine the wavelengths of the iron lines. Because we already know how to convert pixel positions to wavelengths, you can immediately use wavelengths for the fit.\n",
    "\n",
    "Think about making plots where necessary to check the quality of your fits."
   ]
  },
  {
   "cell_type": "code",
   "execution_count": null,
   "metadata": {},
   "outputs": [],
   "source": [
    "# Your code here!"
   ]
  },
  {
   "cell_type": "code",
   "execution_count": null,
   "metadata": {},
   "outputs": [],
   "source": [
    "# Your code here!"
   ]
  },
  {
   "cell_type": "code",
   "execution_count": null,
   "metadata": {},
   "outputs": [],
   "source": [
    "# Your code here!"
   ]
  },
  {
   "cell_type": "markdown",
   "metadata": {
    "nbpresent": {
     "id": "566832c4-4672-4c37-bf16-95d8ebc58d98"
    }
   },
   "source": [
    "You can now calculate how much both iron lines have shifted, knowing that their original wavelengths are 6301.5008 Å and 6302.4932 Å. Use the low-velocity redshift approach for this:\n",
    "<!-- values from NIST as linked to BASS2000 -->\n",
    "\\begin{equation}\n",
    "z = \\frac{\\lambda_o - \\lambda_s}{\\lambda_s} = \\frac{v_o}{c}\n",
    "\\end{equation}\n",
    "Where $\\lambda_o$ is the observed wavelength and $\\lambda_s$ is the rest-frame wavelength and $v_o$ is the observed velocity.\n",
    "\n",
    "Use these two iron lines to calculate the velocity of this part of the sun."
   ]
  },
  {
   "cell_type": "code",
   "execution_count": 26,
   "metadata": {},
   "outputs": [],
   "source": [
    "from astropy.constants import c\n",
    "c = c.value  # c is in units of m/s\n",
    "\n",
    "# Your code here!"
   ]
  },
  {
   "cell_type": "markdown",
   "metadata": {},
   "source": [
    "The function *curve_fit* that we used to find the centre of the Gaussian curves also gave the covariant matrix `pcov`. The uncertainty in the parameters of the fit is the square root of the values in the diagonal of this matrix. For example: the uncertainty of the amplitude (element `0` of `popt`) is the root of element `[0,0]` of `pcov`.\n",
    "\n",
    "Calculate the uncertainties at the velocities you calculated above. Then calculate the average of the two, and the uncertainty thereon."
   ]
  },
  {
   "cell_type": "code",
   "execution_count": null,
   "metadata": {},
   "outputs": [],
   "source": [
    "# Your code here!"
   ]
  },
  {
   "cell_type": "markdown",
   "metadata": {},
   "source": [
    "### All spectra\n",
    "\n",
    "For one measured spectrum you have now done the complete reduction from image to the velocity of that part of the sun. We now want to do this for all measured spectra, so that we can see how this changes across the equator of the sun.\n",
    "\n",
    "Now apply the steps below to all spectra. This can be done in a for-loop, for example. Of course you don't have to make every plot for every spectrum.\n",
    "\n",
    "* Add up the spectrum column by column. Can you always use the same rows as before?\n",
    "* Remove the trend from the spectrum.\n",
    "* Fit the positions of the oxygen lines. Can you always use the same selection of pixels for this fit?\n",
    "* Convert pixels to wavelengths.\n",
    "* Fit the positions of the iron lines. Can you always use the same selection of data for these fits?\n",
    "* Calculate the velocities using the iron lines, and the uncertainties on them.\n",
    "* Calculate the final velocity associated with this spectrum.\n",
    "\n",
    "Store the final velocities and the uncertainties in an array."
   ]
  },
  {
   "cell_type": "code",
   "execution_count": null,
   "metadata": {},
   "outputs": [],
   "source": [
    "# Your code here!"
   ]
  },
  {
   "cell_type": "code",
   "execution_count": null,
   "metadata": {},
   "outputs": [],
   "source": [
    "# Your code here!"
   ]
  },
  {
   "cell_type": "markdown",
   "metadata": {},
   "source": [
    "### Rotation velocity\n",
    "\n",
    "Now you have determined the velocity of the sun in all positions. The last thing that remains to be done, \n",
    "is to determine the rotation velocity of the sun. To determine the rotation velocity it is up to you to \n",
    "write a python program that does this including determining the error.\n",
    "\n",
    "Also make a plot of the rotation speed against the distance from the centre of the sun and add it to your report.\n",
    "Good luck!"
   ]
  },
  {
   "cell_type": "code",
   "execution_count": null,
   "metadata": {},
   "outputs": [],
   "source": []
  }
 ],
 "metadata": {
  "anaconda-cloud": {},
  "kernelspec": {
   "display_name": "Python 3 (ipykernel)",
   "language": "python",
   "name": "python3"
  },
  "language_info": {
   "codemirror_mode": {
    "name": "ipython",
    "version": 3
   },
   "file_extension": ".py",
   "mimetype": "text/x-python",
   "name": "python",
   "nbconvert_exporter": "python",
   "pygments_lexer": "ipython3",
   "version": "3.11.8"
  }
 },
 "nbformat": 4,
 "nbformat_minor": 4
}
